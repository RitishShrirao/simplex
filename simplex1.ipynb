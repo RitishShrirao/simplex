{
 "cells": [
  {
   "cell_type": "code",
   "execution_count": 3,
   "metadata": {},
   "outputs": [
    {
     "data": {
      "text/plain": [
       "'\\nSimplex algorithm in the tableau form. The implementation should work as follows:\\n\\nTake the problem input from a csv which has the following structure:\\n\\n    The First line has a keyword MIN or MAX followed by a single integer d --- which is the number of variables in the problem. MIN/MAX denote whether the objective is to be minimized or maximized.\\n    The Second line is the unit cost vector - u a vector of length d.\\n    The following lines are the constraints --- one line per constraint. Each constraint of the form \\'h op g^T.x\\'  is given in the csv file as \"h op g\", where \\'op\\' is one of the comparison operators =,<=,>=; \\'h\\' is a scalar value and g is a vector of length d. The constraints may not necessarily be independent or even consistent.\\n    The vectors u and g are entered in csv on a single line as a sequence (tab or comma separated) values where each \\'value\\' is of the form \"x@i\" or just \"x\" --- \"x\" is any scalar value and x@i says the i-th component of the vector is x, When it is just \"x\" --- its position in the sequence will be taken as its index. Values at indices not in the sequence (either positional as in \"x\" or explicit index as in \"x@i\") are taken to be zero.\\n    You can use Numpy / JAX\\n\\nThe output of the Simplex implementation must be one of:\\n\\nINFEASIBLE (the feasible region is empty) --- this wasn\\'t discussed in the class. I want you to extend what was discussed in the class to detect if the given problem is infeasible.\\n\\nPASS --- the optimum was successfully found\\n\\nUNBOUNDED --- no optimum exists because the LP is unbounded\\n\\nIn addition if the output is PASS the program should print out the values of the non-zero variables as a dictionary {variable index: value} and the optimum cost at this solution along with the list of redundant constraints that were removed if any.\\n'"
      ]
     },
     "execution_count": 3,
     "metadata": {},
     "output_type": "execute_result"
    }
   ],
   "source": [
    "'''\n",
    "Simplex algorithm in the tableau form. The implementation should work as follows:\n",
    "\n",
    "Take the problem input from a csv which has the following structure:\n",
    "\n",
    "    The First line has a keyword MIN or MAX followed by a single integer d --- which is the number of variables in the problem. MIN/MAX denote whether the objective is to be minimized or maximized.\n",
    "    The Second line is the unit cost vector - u a vector of length d.\n",
    "    The following lines are the constraints --- one line per constraint. Each constraint of the form 'h op g^T.x'  is given in the csv file as \"h op g\", where 'op' is one of the comparison operators =,<=,>=; 'h' is a scalar value and g is a vector of length d. The constraints may not necessarily be independent or even consistent.\n",
    "    The vectors u and g are entered in csv on a single line as a sequence (tab or comma separated) values where each 'value' is of the form \"x@i\" or just \"x\" --- \"x\" is any scalar value and x@i says the i-th component of the vector is x, When it is just \"x\" --- its position in the sequence will be taken as its index. Values at indices not in the sequence (either positional as in \"x\" or explicit index as in \"x@i\") are taken to be zero.\n",
    "    You can use Numpy / JAX\n",
    "\n",
    "The output of the Simplex implementation must be one of:\n",
    "\n",
    "INFEASIBLE (the feasible region is empty) --- this wasn't discussed in the class. I want you to extend what was discussed in the class to detect if the given problem is infeasible.\n",
    "\n",
    "PASS --- the optimum was successfully found\n",
    "\n",
    "UNBOUNDED --- no optimum exists because the LP is unbounded\n",
    "\n",
    "In addition if the output is PASS the program should print out the values of the non-zero variables as a dictionary {variable index: value} and the optimum cost at this solution along with the list of redundant constraints that were removed if any.\n",
    "'''"
   ]
  },
  {
   "cell_type": "code",
   "execution_count": 4,
   "metadata": {},
   "outputs": [
    {
     "data": {
      "text/plain": [
       "'\\nTODO:-\\n=> Implement the simplex algorithm for Min.\\n=> Implement for Max. [u->-u in SimplexSolver]\\n=> Implement the input reading from csv\\n=> Remove dependent constraints\\n=> Handle inconsistent constraints\\n\\n=> Reduce the no. of columns for auxiliary problem (This should solve the infinite loop problem)\\n\\nPossible bugs:-\\n=> Keep track of x[i] getting negative\\n'"
      ]
     },
     "execution_count": 4,
     "metadata": {},
     "output_type": "execute_result"
    }
   ],
   "source": [
    "'''\n",
    "TODO:-\n",
    "=> Implement the simplex algorithm for Min.\n",
    "=> Implement for Max. [u->-u in SimplexSolver]\n",
    "=> Implement the input reading from csv\n",
    "=> Remove dependent constraints\n",
    "=> Handle inconsistent constraints\n",
    "\n",
    "Possible bugs:-\n",
    "=> Keep track of x[i] getting negative\n",
    "'''"
   ]
  },
  {
   "cell_type": "code",
   "execution_count": 1,
   "metadata": {},
   "outputs": [],
   "source": [
    "import numpy as np"
   ]
  },
  {
   "cell_type": "code",
   "execution_count": 2,
   "metadata": {},
   "outputs": [],
   "source": [
    "# # Represent numpy arrays as fractions\n",
    "# from fractions import Fraction\n",
    "# np.set_printoptions(formatter={'all':lambda x: str(Fraction(x).limit_denominator())})"
   ]
  },
  {
   "cell_type": "code",
   "execution_count": 12,
   "metadata": {},
   "outputs": [],
   "source": [
    "class SimplexSolver:\n",
    "    def __init__(self, type, d, u, constraints):\n",
    "        self.type = type\n",
    "        self.d_old = d\n",
    "        self.d = d\n",
    "        self.u = u\n",
    "        if type == 'MAX':\n",
    "            self.u = -self.u\n",
    "        self.constraints = constraints\n",
    "        self.addSlackVariables()\n",
    "        self.G = np.array([constraint[2] for constraint in self.constraints])\n",
    "        self.c = self.G.shape[0]\n",
    "        self.h_tilde = np.array([constraint[0] for constraint in self.constraints])\n",
    "        self.numAuxVars = self.c - self.d\n",
    "\n",
    "    def addSlackVariables(self):\n",
    "        for i in range(len(self.constraints)):\n",
    "            if self.constraints[i][1] in ['<=', '>=']:\n",
    "                self.d += 1\n",
    "                self.u = np.append(self.u, 0)\n",
    "\n",
    "        # Add slack variables to the constraints according to the mask\n",
    "        slack_count = 0\n",
    "        for i in range(len(self.constraints)):\n",
    "            if self.constraints[i][1] == '>=':\n",
    "                slack_count += 1\n",
    "                self.constraints[i][1] = '='                    # Convert the constraint to equality\n",
    "                g_new = np.zeros(self.d)\n",
    "                g_new[:self.d_old] = self.constraints[i][2]     # Copy the original constraints\n",
    "\n",
    "                slack_index = self.d_old + slack_count - 1\n",
    "\n",
    "                g_new[slack_index] = 1                          # Add slack variable\n",
    "\n",
    "                self.constraints[i][2] = g_new\n",
    "            elif self.constraints[i][1] == '<=':\n",
    "                slack_count += 1\n",
    "                self.constraints[i][1] = '='                    # Convert the constraint to equality\n",
    "                g_new = np.zeros(self.d)\n",
    "                g_new[:self.d_old] = self.constraints[i][2]\n",
    "\n",
    "                slack_index = self.d_old + slack_count - 1\n",
    "\n",
    "                g_new[slack_index] = -1\n",
    "\n",
    "                self.constraints[i][2] = g_new\n",
    "            else:\n",
    "                self.constraints[i][2] = np.concatenate((self.constraints[i][2], np.zeros(self.d - self.d_old)))    # No need to add slack variable for equality\n",
    "\n",
    "    def getInitialLPP(self, ):\n",
    "        # Get the auxiliary LPP for finding initial BFS\n",
    "        # Minimize y1 + y2 + ... + yc subject to\n",
    "        # [G, I] * [x, y].T = h~\n",
    "        \n",
    "        # Construct G' = [G, I]\n",
    "        G1 = np.concatenate((self.G, np.eye(self.c)), axis=1)\n",
    "        u1 = np.concatenate((np.zeros((self.d,)), np.ones((self.c,))))    # (d+c,)\n",
    "        h_tilde1 = self.h_tilde                                    # (c,)\n",
    "        return G1, u1, h_tilde1\n",
    "    \n",
    "    def getTableau(self, G, u, h_tilde):\n",
    "        # Construct the tableau for the given LPP\n",
    "        # Assume G: (c,d), u: (d,), h_tilde: (c,)\n",
    "        uT = u.reshape(1, -1)\n",
    "        tableau = np.concatenate((G, uT), axis=0)\n",
    "        h_tilde = h_tilde.reshape(-1, 1)\n",
    "        h_tilde = np.concatenate((h_tilde, np.zeros((1, 1))), axis=0)\n",
    "        tableau = np.concatenate((tableau, h_tilde), axis=1)\n",
    "        return tableau\n",
    "    \n",
    "    def getCanonicalForm(self, tableau, basis):\n",
    "        '''\n",
    "        Canonical form : A system Ax = b is said to be in canonical form if among\n",
    "        the n variables there are m variables with the property that each appears in\n",
    "        only one equation, and its coefficient in that equation is unity.\n",
    "        [An introduction to optimization definition 16.5]\n",
    "\n",
    "        To convert into canonical form, we'll make the columns corresponding\n",
    "        to the basic variables in last row to 0 using row operations.\n",
    "        '''\n",
    "        # TODO : Is For loop necessary?\n",
    "        # Reduce the elements of the last row of the basic columns to 0\n",
    "        for i in range(len(basis)):\n",
    "            if basis[i] != -1:\n",
    "                tableau[-1, :] -= tableau[basis[i], :] * tableau[-1, i]\n",
    "        return tableau\n",
    "    \n",
    "    def getLeavingVar(self, tableau, entering_var, basis):\n",
    "        basisMask = (basis != -1)\n",
    "        # Handle unbounded LPP\n",
    "        if (np.all(np.abs(tableau[:, entering_var])) < 1e-8):\n",
    "            return None\n",
    "        else:\n",
    "            # We need to consider only the non basic columns, so mask the basic columns\n",
    "            basisMask = basisMask.reshape(1, -1)\n",
    "            tableau = tableau.copy()\n",
    "            # Mask will be applied on just (c,d) part of the tableau\n",
    "            tableau[:-1, :-1] = tableau[:-1, :-1] * (1 - basisMask)\n",
    "\n",
    "            # Need to find argmin(hi / nie) : nie > 0\n",
    "            nie = tableau[:-1, entering_var]\n",
    "            hi = tableau[:-1, -1]\n",
    "\n",
    "            nMask = (nie <= 0)\n",
    "            nie[nMask] = 1\n",
    "\n",
    "            ratio = hi / nie\n",
    "            ratio[nMask] = np.inf           # Set the ratio to infinity if nie = 0\n",
    "\n",
    "            leaving_var = np.argmin(ratio)  # Returns the first occurence of the minimum value\n",
    "            return leaving_var              # Note: This is the index of the leaving variable in the basis, not tableau\n",
    "\n",
    "    def getEnteringVar(self, tableau):\n",
    "        # Get the entering variable from the given tableau\n",
    "\n",
    "        # First check if the tableau is optimal\n",
    "        if np.all(tableau[-1, :-1] >= 0):\n",
    "            return None\n",
    "        else:\n",
    "            # Get the entering variable (assuming canonical form so we're just checking entries of (u_n - N.T * u_B))\n",
    "            # Find the first negative element in the last row\n",
    "            entering_var = np.where(tableau[-1, :-1] < 0)[0][0]\n",
    "            print(\"ENTER\", tableau[-1, :-1], (tableau[-1, :-1] >= 0))\n",
    "            return entering_var\n",
    "\n",
    "    def swapBasisVar(self, tableau, entering_var, leaving_var, basis):\n",
    "        # Check implementation\n",
    "\n",
    "        # Get position of leaving_var in tableau\n",
    "        leaving_var_tab = np.where(basis == leaving_var)[0][0]\n",
    "        \n",
    "        # Note: entering_var is the index in the tableau itself, so no need to update it\n",
    "        # Update the tableau\n",
    "        tableau[leaving_var, :] /= tableau[leaving_var, entering_var]\n",
    "        reduce_col = tableau[:, entering_var].copy()\n",
    "        reduce_col[leaving_var] = 0      # Don't substract 1 form itself to prevent basis row from becoming 0\n",
    "        # print(tableau)\n",
    "        # print(\"Matmul\", np.matmul(reduce_col.reshape(-1, 1), tableau[leaving_var, :].reshape(1,-1)))\n",
    "        tableau -= np.matmul(reduce_col.reshape(-1, 1), tableau[leaving_var, :].reshape(1,-1))\n",
    "\n",
    "        # Swap the entering and leaving variables in the basis\n",
    "        basis[leaving_var_tab] = -1\n",
    "        basis[entering_var] = leaving_var\n",
    "\n",
    "        # TODO: Is it required?\n",
    "        # tableau = self.getCanonicalForm(tableau, basis)\n",
    "\n",
    "        return tableau, basis\n",
    "    \n",
    "    def getOptimalSolution(self, tableau, basis):\n",
    "        entering_var = self.getEnteringVar(tableau)\n",
    "        while entering_var is not None:\n",
    "            leaving_var = self.getLeavingVar(tableau, entering_var, basis)\n",
    "            if leaving_var is None:\n",
    "                return None, None\n",
    "            tableau, basis = self.swapBasisVar(tableau, entering_var, leaving_var, basis)\n",
    "            entering_var = self.getEnteringVar(tableau)\n",
    "            print(tableau)\n",
    "\n",
    "        return tableau, basis\n",
    "\n",
    "    def solve(self, ):\n",
    "        # First get initial BFS by solving the auxiliary LPP\n",
    "        G1, u1, h_tilde1 = self.getInitialLPP()\n",
    "        tableau1 = self.getTableau(G1, u1, h_tilde1)\n",
    "        # print(tableau1)\n",
    "\n",
    "        # Basis as a binary mask on all the variables\n",
    "        basis = np.concatenate((-1 * np.ones((self.d,), dtype=int), np.arange(self.c, dtype=int)))      # To keep track of ith basic variable\n",
    "        tableau = self.getCanonicalForm(tableau1, basis)\n",
    "        print(tableau)\n",
    "        \n",
    "        # Get the optimal solution\n",
    "        tableau, basis = self.getOptimalSolution(tableau, basis)\n",
    "\n",
    "        # TODO : Check if the LPP is unbounded\n",
    "        # if (tableau, basis) == (None, None):\n",
    "        #     return 'UNBOUNDED'\n",
    "        \n",
    "        # Solution of the auxiliary LPP is the initial BFS\n",
    "        auxSol = tableau[:-1, -1]\n",
    "        print(\"Auxiliary solution: \")\n",
    "        print(auxSol)\n",
    "\n",
    "        # Then apply simplex algorithm on the initial BFS to get the optimal solution\n",
    "        # Remove the columns corresponding to the auxiliary variables\n",
    "\n",
    "        # Remove last c columns and add the last column to the end\n",
    "        tableau = np.concatenate((tableau[:-1, :-(self.c+1)], tableau[:-1, -1].reshape(-1,1)), axis=1)\n",
    "        u_0 = np.concatenate((self.u.reshape(1,-1), np.zeros((1,1))), axis=1)\n",
    "        tableau = np.concatenate((tableau, u_0), axis=0)\n",
    "        \n",
    "        # New basis\n",
    "        basis = basis[:-self.c]\n",
    "        print(basis.shape)\n",
    "\n",
    "        # Get canonical form\n",
    "        tableau = self.getCanonicalForm(tableau, basis)\n",
    "        print(tableau)\n",
    "\n",
    "        # Optimize the new tableau\n",
    "        tableau, basis = self.getOptimalSolution(tableau, basis)\n",
    "        print(tableau)"
   ]
  },
  {
   "cell_type": "code",
   "execution_count": 13,
   "metadata": {},
   "outputs": [],
   "source": [
    "# type = \"MIN\"\n",
    "# d = 3\n",
    "# u = np.array([1, 2, 3])\n",
    "# constraints = [\n",
    "#     [1, \"<=\", np.array([1, 2, 3])],\n",
    "#     [2, \">=\", np.array([-2, 4, 7])],\n",
    "#     [3, \"=\", np.array([0, 1, 2])],\n",
    "#     [4, \"<=\", np.array([1, 1, 1])]\n",
    "# ]\n",
    "\n",
    "\n",
    "# type = \"MIN\"\n",
    "# d = 2\n",
    "# u = np.array([2, 3])\n",
    "# constraints = [\n",
    "#     [12, \"<=\", np.array([4, 2])],\n",
    "#     [6, \"<=\", np.array([1, 4])],\n",
    "# ]\n",
    "\n",
    "# type = \"MAX\"\n",
    "# d = 3\n",
    "# u = np.array([4, 1, 4])\n",
    "# constraints = [\n",
    "#     [2, \">=\", np.array([2,1,1])],\n",
    "#     [4, \">=\", np.array([1,2,3])],\n",
    "#     [8, \">=\", np.array([2,2,1])],\n",
    "# ]\n",
    "\n",
    "# type=\"MIN\"\n",
    "# d=4\n",
    "# u=np.array([1,1,0,0])\n",
    "# constraints=[\n",
    "#     [8, \"=\", np.array([1,1,0,1])],\n",
    "#     [10, \"=\", np.array([2, 1, 1, 0])],\n",
    "# ]\n",
    "\n",
    "# type = \"MIN\"\n",
    "# d=2\n",
    "# u = np.array([-40, -30])\n",
    "# constraints = [\n",
    "#     [12, \">=\", np.array([1, 1])],\n",
    "#     [16, \">=\", np.array([2, 1])],\n",
    "# ]\n",
    "\n",
    "# type=\"MIN\"\n",
    "# d=2\n",
    "# u=np.array([4,1])\n",
    "# constraints = [\n",
    "#     [3, \">=\", np.array([1, 2])],\n",
    "#     [6, \"<=\", np.array([4, 3])],\n",
    "#     [3, \"=\", np.array([3, 1])],\n",
    "# ]\n",
    "\n",
    "# type=\"MIN\"\n",
    "# d=4\n",
    "# u=np.array([1,-1,2,-2])\n",
    "# constraints = [\n",
    "#     [1, \"=\", np.array([1,-1,1,-2])],\n",
    "#     [4, \"=\", np.array([2,-2,1,-1])],\n",
    "# ]\n",
    "\n",
    "# type=\"MAX\"\n",
    "# d=2\n",
    "# u=np.array([3,5])\n",
    "# constraints = [\n",
    "#     [4, \">=\", np.array([1,1])],\n",
    "#     [8, \"<=\", np.array([5,3])],\n",
    "# ]\n",
    "\n",
    "# type=\"MIN\"\n",
    "# d=4\n",
    "# u=np.array([2,-1,-1,0])       # works\n",
    "# constraints = [\n",
    "#     [4, \"=\", np.array([3,1,0,1])],\n",
    "#     [5, \"=\", np.array([6,2,1,1])],\n",
    "# ]\n",
    "\n",
    "# type=\"MAX\"\n",
    "# d=3\n",
    "# u=np.array([1,1,3])    # works\n",
    "# constraints = [\n",
    "#     [1, \"=\", np.array([1,0,1])],\n",
    "#     [2, \"=\", np.array([0,1,1])],\n",
    "# ]\n",
    "\n",
    "# type=\"MAX\"\n",
    "# d=2\n",
    "# u=np.array([2,1])       # works\n",
    "# constraints = [\n",
    "#     [5, \">=\", np.array([1,0])],\n",
    "#     [7, \">=\", np.array([0,1])],\n",
    "# ]\n",
    "\n",
    "# type=\"MIN\"\n",
    "# d=2\n",
    "# u=np.array([1,1])       # Test\n",
    "# constraints = [\n",
    "#     [3, \"<=\", np.array([1,2])],\n",
    "#     [3, \"<=\", np.array([2,1])],\n",
    "# ]\n",
    "\n",
    "type=\"MAX\"\n",
    "d=2\n",
    "u=np.array([-4,-3])       # Test\n",
    "constraints = [\n",
    "    [11, \"<=\", np.array([5,1])],\n",
    "    [-8, \">=\", np.array([-2,-1])],\n",
    "    [7. , \"<=\", np.array([1,2])],\n",
    "]"
   ]
  },
  {
   "cell_type": "code",
   "execution_count": 14,
   "metadata": {},
   "outputs": [],
   "source": [
    "simplex = SimplexSolver(type, d, u, constraints)"
   ]
  },
  {
   "cell_type": "code",
   "execution_count": 15,
   "metadata": {},
   "outputs": [
    {
     "name": "stdout",
     "output_type": "stream",
     "text": [
      "[[  5.   1.  -1.   0.   0.   1.   0.   0.  11.]\n",
      " [ -2.  -1.   0.   1.   0.   0.   1.   0.  -8.]\n",
      " [  1.   2.   0.   0.  -1.   0.   0.   1.   7.]\n",
      " [ -4.  -2.   1.  -1.   1.   0.   0.   0. -10.]]\n",
      "ENTER [-4. -2.  1. -1.  1.  0.  0.  0.] [False False  True False  True  True  True  True]\n",
      "ENTER [ 0.  -1.2  0.2 -1.   1.   0.8  0.   0. ] [ True False  True False  True  True  True  True]\n",
      "[[ 1.   0.2 -0.2  0.   0.   0.2  0.   0.   2.2]\n",
      " [ 0.  -0.6 -0.4  1.   0.   0.4  1.   0.  -3.6]\n",
      " [ 0.   1.8  0.2  0.  -1.  -0.2  0.   1.   4.8]\n",
      " [ 0.  -1.2  0.2 -1.   1.   0.8  0.   0.  -1.2]]\n",
      "ENTER [ 0.          0.          0.33333333 -1.          0.33333333  0.66666667\n",
      "  0.          0.66666667] [ True  True  True False  True  True  True  True]\n",
      "[[ 1.          0.         -0.22222222  0.          0.11111111  0.22222222\n",
      "   0.         -0.11111111  1.66666667]\n",
      " [ 0.          0.         -0.33333333  1.         -0.33333333  0.33333333\n",
      "   1.          0.33333333 -2.        ]\n",
      " [ 0.          1.          0.11111111  0.         -0.55555556 -0.11111111\n",
      "   0.          0.55555556  2.66666667]\n",
      " [ 0.          0.          0.33333333 -1.          0.33333333  0.66666667\n",
      "   0.          0.66666667  2.        ]]\n"
     ]
    },
    {
     "ename": "TypeError",
     "evalue": "'NoneType' object is not subscriptable",
     "output_type": "error",
     "traceback": [
      "\u001b[0;31m---------------------------------------------------------------------------\u001b[0m",
      "\u001b[0;31mTypeError\u001b[0m                                 Traceback (most recent call last)",
      "Cell \u001b[0;32mIn[15], line 1\u001b[0m\n\u001b[0;32m----> 1\u001b[0m \u001b[43msimplex\u001b[49m\u001b[38;5;241;43m.\u001b[39;49m\u001b[43msolve\u001b[49m\u001b[43m(\u001b[49m\u001b[43m)\u001b[49m\n",
      "Cell \u001b[0;32mIn[12], line 181\u001b[0m, in \u001b[0;36mSimplexSolver.solve\u001b[0;34m(self)\u001b[0m\n\u001b[1;32m    174\u001b[0m tableau, basis \u001b[38;5;241m=\u001b[39m \u001b[38;5;28mself\u001b[39m\u001b[38;5;241m.\u001b[39mgetOptimalSolution(tableau, basis)\n\u001b[1;32m    176\u001b[0m \u001b[38;5;66;03m# TODO : Check if the LPP is unbounded\u001b[39;00m\n\u001b[1;32m    177\u001b[0m \u001b[38;5;66;03m# if (tableau, basis) == (None, None):\u001b[39;00m\n\u001b[1;32m    178\u001b[0m \u001b[38;5;66;03m#     return 'UNBOUNDED'\u001b[39;00m\n\u001b[1;32m    179\u001b[0m \n\u001b[1;32m    180\u001b[0m \u001b[38;5;66;03m# Solution of the auxiliary LPP is the initial BFS\u001b[39;00m\n\u001b[0;32m--> 181\u001b[0m auxSol \u001b[38;5;241m=\u001b[39m \u001b[43mtableau\u001b[49m\u001b[43m[\u001b[49m\u001b[43m:\u001b[49m\u001b[38;5;241;43m-\u001b[39;49m\u001b[38;5;241;43m1\u001b[39;49m\u001b[43m,\u001b[49m\u001b[43m \u001b[49m\u001b[38;5;241;43m-\u001b[39;49m\u001b[38;5;241;43m1\u001b[39;49m\u001b[43m]\u001b[49m\n\u001b[1;32m    182\u001b[0m \u001b[38;5;28mprint\u001b[39m(\u001b[38;5;124m\"\u001b[39m\u001b[38;5;124mAuxiliary solution: \u001b[39m\u001b[38;5;124m\"\u001b[39m)\n\u001b[1;32m    183\u001b[0m \u001b[38;5;28mprint\u001b[39m(auxSol)\n",
      "\u001b[0;31mTypeError\u001b[0m: 'NoneType' object is not subscriptable"
     ]
    }
   ],
   "source": [
    "simplex.solve()"
   ]
  },
  {
   "cell_type": "code",
   "execution_count": 110,
   "metadata": {},
   "outputs": [],
   "source": [
    "# Create a function to transform from constraints to G for linprog\n",
    "def constraintsToG(constraints):\n",
    "    G = np.zeros((len(constraints), d))\n",
    "    for i in range(len(constraints)):\n",
    "        print(constraints[i])\n",
    "        if constraints[i][1] == '<=':\n",
    "            G[i] = -1 * constraints[i][2][:d]\n",
    "        else:\n",
    "            G[i] = constraints[i][2][:d]\n",
    "    return G\n",
    "\n",
    "def constraintsToH(constraints):\n",
    "    h = np.zeros((len(constraints),))\n",
    "    for i in range(len(constraints)):\n",
    "        if constraints[i][1] == '<=':\n",
    "            h[i] = -1 * constraints[i][0]\n",
    "        else:\n",
    "            h[i] = constraints[i][0]\n",
    "    return h"
   ]
  },
  {
   "cell_type": "code",
   "execution_count": 111,
   "metadata": {},
   "outputs": [
    {
     "name": "stdout",
     "output_type": "stream",
     "text": [
      "[4 3]\n",
      "[11, '<=', array([5, 1])]\n",
      "[-8, '>=', array([-2, -1])]\n",
      "[7.0, '<=', array([1, 2])]\n",
      "[[-5 -1]\n",
      " [-2 -1]\n",
      " [-1 -2]]\n",
      "[-11 -8 -7]\n",
      "There is a linear combination of rows of A_eq that results in zero, suggesting a redundant constraint. However the same linear combination of b_eq is nonzero, suggesting that the constraints conflict and the problem is infeasible.\n",
      "         Iterations: 0\n",
      " message: There is a linear combination of rows of A_eq that results in zero, suggesting a redundant constraint. However the same linear combination of b_eq is nonzero, suggesting that the constraints conflict and the problem is infeasible.\n",
      " success: False\n",
      "  status: 2\n",
      "     fun: 0.0\n",
      "       x: [ 0.000e+00  0.000e+00]\n",
      "     nit: 0\n"
     ]
    },
    {
     "name": "stderr",
     "output_type": "stream",
     "text": [
      "/tmp/ipykernel_11912/4065296701.py:10: DeprecationWarning: `method='simplex'` is deprecated and will be removed in SciPy 1.11.0. Please use one of the HiGHS solvers (e.g. `method='highs'`) in new code.\n",
      "  res = linprog(c, A_eq=G, b_eq=h, method='simplex', options={'disp': True})\n",
      "/tmp/ipykernel_11912/4065296701.py:10: OptimizeWarning: A_eq does not appear to be of full row rank. To improve performance, check the problem formulation for redundant equality constraints.\n",
      "  res = linprog(c, A_eq=G, b_eq=h, method='simplex', options={'disp': True})\n"
     ]
    }
   ],
   "source": [
    "# Solve the LPP using linprog\n",
    "from scipy.optimize import linprog\n",
    "c = simplex.u[:simplex.d_old]\n",
    "print(c)\n",
    "G = constraintsToG(constraints)\n",
    "print(G)\n",
    "h = constraintsToH(constraints)       # Form h >= g^T.x\n",
    "print(h)\n",
    "# Print with steps\n",
    "res = linprog(c, A_eq=G, b_eq=h, method='simplex', options={'disp': True})\n",
    "print(res)"
   ]
  },
  {
   "cell_type": "code",
   "execution_count": 112,
   "metadata": {},
   "outputs": [
    {
     "name": "stdout",
     "output_type": "stream",
     "text": [
      "[4 3]\n",
      "[11, '<=', array([5, 1])]\n",
      "[-8, '>=', array([-2, -1])]\n",
      "[7.0, '<=', array([1, 2])]\n",
      "[[-5 -1]\n",
      " [-2 -1]\n",
      " [-1 -2]]\n",
      "[-11 -8 -7]\n",
      "Optimization terminated successfully.\n",
      "         Current function value: 18.000000   \n",
      "         Iterations: 3\n",
      " message: Optimization terminated successfully.\n",
      " success: True\n",
      "  status: 0\n",
      "     fun: 18.0\n",
      "       x: [ 3.000e+00  2.000e+00]\n",
      "     nit: 3\n"
     ]
    },
    {
     "name": "stderr",
     "output_type": "stream",
     "text": [
      "/tmp/ipykernel_11912/399770180.py:10: DeprecationWarning: `method='simplex'` is deprecated and will be removed in SciPy 1.11.0. Please use one of the HiGHS solvers (e.g. `method='highs'`) in new code.\n",
      "  res = linprog(c, A_ub=G, b_ub=h, method='simplex', options={'disp': True})\n"
     ]
    }
   ],
   "source": [
    "# Solve the LPP using linprog\n",
    "from scipy.optimize import linprog\n",
    "c = simplex.u[:simplex.d_old]\n",
    "print(c)\n",
    "G = constraintsToG(constraints)\n",
    "print(G)\n",
    "h = constraintsToH(constraints)       # Form h >= g^T.x\n",
    "print(h)\n",
    "# Print with steps\n",
    "res = linprog(c, A_ub=G, b_ub=h, method='simplex', options={'disp': True})\n",
    "print(res)"
   ]
  },
  {
   "cell_type": "code",
   "execution_count": 25,
   "metadata": {},
   "outputs": [
    {
     "name": "stdout",
     "output_type": "stream",
     "text": [
      "Optimization terminated successfully.\n",
      "         Current function value: -6.400000   \n",
      "         Iterations: 6\n",
      " message: Optimization terminated successfully.\n",
      " success: True\n",
      "  status: 0\n",
      "     fun: -6.4\n",
      "       x: [ 4.000e-01  0.000e+00  1.200e+00]\n",
      "     nit: 6\n"
     ]
    },
    {
     "name": "stderr",
     "output_type": "stream",
     "text": [
      "/tmp/ipykernel_11912/2716068802.py:11: DeprecationWarning: `method='simplex'` is deprecated and will be removed in SciPy 1.11.0. Please use one of the HiGHS solvers (e.g. `method='highs'`) in new code.\n",
      "  res = linprog(c, A_ub=A, b_ub=b, method='simplex', options={'disp': True})\n"
     ]
    }
   ],
   "source": [
    "# Solve the LPP using linprog\n",
    "from scipy.optimize import linprog\n",
    "c = simplex.u[:simplex.d_old]\n",
    "G = np.array([\n",
    "    [2,1,1],\n",
    "    [1,2,3],\n",
    "    [2,2,1]\n",
    "])\n",
    "h = np.array([2,4,8])\n",
    "# Print with steps\n",
    "res = linprog(c, A_ub=G, b_ub=h, method='simplex', options={'disp': True})\n",
    "print(res)"
   ]
  },
  {
   "cell_type": "code",
   "execution_count": 11,
   "metadata": {},
   "outputs": [
    {
     "name": "stdout",
     "output_type": "stream",
     "text": [
      "Optimization terminated successfully.\n",
      "         Current function value: -400.000000 \n",
      "         Iterations: 3\n",
      " message: Optimization terminated successfully.\n",
      " success: True\n",
      "  status: 0\n",
      "     fun: -400.0\n",
      "       x: [ 4.000e+00  8.000e+00]\n",
      "     nit: 3\n"
     ]
    },
    {
     "name": "stderr",
     "output_type": "stream",
     "text": [
      "/tmp/ipykernel_56476/3185283195.py:10: DeprecationWarning: `method='simplex'` is deprecated and will be removed in SciPy 1.11.0. Please use one of the HiGHS solvers (e.g. `method='highs'`) in new code.\n",
      "  res = linprog(c, A_ub=A_ub, b_ub=b_ub, method='simplex', options={'disp': True})\n"
     ]
    }
   ],
   "source": [
    "# Solve the LPP using linprog\n",
    "from scipy.optimize import linprog\n",
    "c = np.array([-40, -30])\n",
    "A_ub = np.array([\n",
    "    [1, 1],\n",
    "    [2, 1]\n",
    "])\n",
    "b_ub = np.array([12, 16])\n",
    "# Print with steps\n",
    "res = linprog(c, A_ub=A_ub, b_ub=b_ub, method='simplex', options={'disp': True})\n",
    "print(res)"
   ]
  },
  {
   "cell_type": "code",
   "execution_count": 110,
   "metadata": {},
   "outputs": [
    {
     "name": "stdout",
     "output_type": "stream",
     "text": [
      "[[ 2.  1.  1.  1.  0.  0.  2.]\n",
      " [ 1.  2.  3.  0.  1.  0.  4.]\n",
      " [ 2.  2.  1.  0.  0.  1.  8.]\n",
      " [-4. -1. -4.  0.  0.  0.  0.]]\n"
     ]
    }
   ],
   "source": [
    "# tableau = simplex.getTableau(simplex.G, simplex.u, simplex.h_tilde)\n",
    "# print(tableau)"
   ]
  },
  {
   "cell_type": "code",
   "execution_count": 31,
   "metadata": {},
   "outputs": [
    {
     "name": "stdout",
     "output_type": "stream",
     "text": [
      "[[ 2.  1.  1.  1.  0.  0.  2.]\n",
      " [ 1.  2.  3.  0.  1.  0.  4.]\n",
      " [ 2.  2.  1.  0.  0.  1.  8.]\n",
      " [-4. -1. -4.  0.  0.  0.  0.]]\n"
     ]
    }
   ],
   "source": [
    "# basis = np.array([-1, -1, -1, 0, 1, 2])\n",
    "# tableau = simplex.getCanonicalForm(tableau, basis)\n",
    "# print(tableau)"
   ]
  },
  {
   "cell_type": "code",
   "execution_count": 32,
   "metadata": {},
   "outputs": [
    {
     "name": "stdout",
     "output_type": "stream",
     "text": [
      "[[ 1.   0.5  0.5  0.5  0.   0.   1. ]\n",
      " [ 0.   1.5  2.5 -0.5  1.   0.   3. ]\n",
      " [ 0.   1.   0.  -1.   0.   1.   6. ]\n",
      " [ 0.   1.  -2.   2.   0.   0.   4. ]]\n",
      "[[ 1.   0.2  0.   0.6 -0.2  0.   0.4]\n",
      " [ 0.   0.6  1.  -0.2  0.4  0.   1.2]\n",
      " [ 0.   1.   0.  -1.   0.   1.   6. ]\n",
      " [ 0.   2.2  0.   1.6  0.8  0.   6.4]]\n"
     ]
    },
    {
     "data": {
      "text/plain": [
       "(array([[ 1. ,  0.2,  0. ,  0.6, -0.2,  0. ,  0.4],\n",
       "        [ 0. ,  0.6,  1. , -0.2,  0.4,  0. ,  1.2],\n",
       "        [ 0. ,  1. ,  0. , -1. ,  0. ,  1. ,  6. ],\n",
       "        [ 0. ,  2.2,  0. ,  1.6,  0.8,  0. ,  6.4]]),\n",
       " array([ 0, -1,  1, -1, -1,  2]))"
      ]
     },
     "execution_count": 32,
     "metadata": {},
     "output_type": "execute_result"
    }
   ],
   "source": [
    "# simplex.getOptimalSolution(tableau, basis)"
   ]
  },
  {
   "cell_type": "code",
   "execution_count": null,
   "metadata": {},
   "outputs": [],
   "source": []
  }
 ],
 "metadata": {
  "kernelspec": {
   "display_name": ".venv",
   "language": "python",
   "name": "python3"
  },
  "language_info": {
   "codemirror_mode": {
    "name": "ipython",
    "version": 3
   },
   "file_extension": ".py",
   "mimetype": "text/x-python",
   "name": "python",
   "nbconvert_exporter": "python",
   "pygments_lexer": "ipython3",
   "version": "3.12.5"
  }
 },
 "nbformat": 4,
 "nbformat_minor": 2
}
